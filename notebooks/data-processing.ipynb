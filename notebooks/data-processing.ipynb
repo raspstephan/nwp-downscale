{
 "cells": [
  {
   "cell_type": "code",
   "execution_count": null,
   "id": "23f45edc",
   "metadata": {},
   "outputs": [],
   "source": [
    "import torch\n",
    "from torch.nn import functional as F\n",
    "from torch import nn\n",
    "from pytorch_lightning.core.lightning import LightningModule\n",
    "import pytorch_lightning as pl\n",
    "\n",
    "import torch.optim as optim\n",
    "import torchvision\n",
    "import torchvision.datasets as datasets\n",
    "import torchvision.transforms as transforms\n",
    "from torch.utils.data import DataLoader\n",
    "\n",
    "from src.models import *\n",
    "from src.dataloader import *\n",
    "from src.utils import *\n",
    "\n",
    "import xarray as xr\n",
    "import numpy as np\n",
    "import matplotlib.pyplot as plt\n",
    "\n",
    "import pickle\n",
    "import json"
   ]
  },
  {
   "cell_type": "markdown",
   "id": "0c78e222",
   "metadata": {},
   "source": [
    "## Train and Val"
   ]
  },
  {
   "cell_type": "code",
   "execution_count": 2,
   "id": "91d64c3e",
   "metadata": {},
   "outputs": [],
   "source": [
    "data_dir = '/home/jupyter/data/'"
   ]
  },
  {
   "cell_type": "code",
   "execution_count": 3,
   "id": "ff3db28e",
   "metadata": {},
   "outputs": [],
   "source": [
    "args = {'tigge_dir':data_dir + f'tigge/32km/',\n",
    "    'tigge_vars':['total_precipitation_ens10','total_column_water_ens10'],#, '2m_temperature', 'convective_available_potential_energy', 'convective_inhibition'],\n",
    "    'mrms_dir':data_dir + f'mrms/4km/RadarOnly_QPE_06H/',\n",
    "    'rq_fn':data_dir + f'mrms/4km/RadarQuality.nc',\n",
    "#     'const_fn':data_dir + 'tigge/32km/constants.nc',\n",
    "#     'const_vars':['orog', 'lsm'],\n",
    "    'data_period':('2018-01', '2019-12'),\n",
    "    'val_days':5,\n",
    "    'split':'train',\n",
    "#     'pure_sr_ratio':8, \n",
    "#     'tp_log':0.01, \n",
    "    'ensemble_mode':'random',\n",
    "    'pad_tigge':10,\n",
    "    'pad_tigge_channel': True\n",
    "    }\n",
    "\n",
    "dataset_name = 'ensemble_tp_extra_vars_TCW_x10_padded_10_channel'"
   ]
  },
  {
   "cell_type": "code",
   "execution_count": 4,
   "id": "0fa4d38b",
   "metadata": {},
   "outputs": [
    {
     "name": "stderr",
     "output_type": "stream",
     "text": [
      "/opt/conda/envs/ilan/lib/python3.9/site-packages/xarray/core/indexing.py:1379: PerformanceWarning: Slicing is producing a large chunk. To accept the large\n",
      "chunk and silence this warning, set the option\n",
      "    >>> with dask.config.set(**{'array.slicing.split_large_chunks': False}):\n",
      "    ...     array[indexer]\n",
      "\n",
      "To avoid creating the large chunks, set the option\n",
      "    >>> with dask.config.set(**{'array.slicing.split_large_chunks': True}):\n",
      "    ...     array[indexer]\n",
      "  return self.array[key]\n",
      "/opt/conda/envs/ilan/lib/python3.9/site-packages/xarray/core/indexing.py:1379: PerformanceWarning: Slicing is producing a large chunk. To accept the large\n",
      "chunk and silence this warning, set the option\n",
      "    >>> with dask.config.set(**{'array.slicing.split_large_chunks': False}):\n",
      "    ...     array[indexer]\n",
      "\n",
      "To avoid creating the large chunks, set the option\n",
      "    >>> with dask.config.set(**{'array.slicing.split_large_chunks': True}):\n",
      "    ...     array[indexer]\n",
      "  return self.array[key]\n"
     ]
    },
    {
     "name": "stdout",
     "output_type": "stream",
     "text": [
      "Loading data\n"
     ]
    }
   ],
   "source": [
    "ds_train = TiggeMRMSDataset(**args)"
   ]
  },
  {
   "cell_type": "code",
   "execution_count": 5,
   "id": "a111c383",
   "metadata": {},
   "outputs": [],
   "source": [
    "pickle.dump(ds_train, open(data_dir + f\"saved_datasets/traindataset_{dataset_name}.pkl\", \"wb\"))\n",
    "pickle.dump(args, open(data_dir + f\"saved_datasets/traindataset_{dataset_name}_args.pkl\", \"wb\"))"
   ]
  },
  {
   "cell_type": "code",
   "execution_count": 6,
   "id": "fbbf73d7",
   "metadata": {},
   "outputs": [
    {
     "name": "stderr",
     "output_type": "stream",
     "text": [
      "/opt/conda/envs/ilan/lib/python3.9/site-packages/xarray/core/indexing.py:1379: PerformanceWarning: Slicing is producing a large chunk. To accept the large\n",
      "chunk and silence this warning, set the option\n",
      "    >>> with dask.config.set(**{'array.slicing.split_large_chunks': False}):\n",
      "    ...     array[indexer]\n",
      "\n",
      "To avoid creating the large chunks, set the option\n",
      "    >>> with dask.config.set(**{'array.slicing.split_large_chunks': True}):\n",
      "    ...     array[indexer]\n",
      "  return self.array[key]\n",
      "/opt/conda/envs/ilan/lib/python3.9/site-packages/xarray/core/indexing.py:1379: PerformanceWarning: Slicing is producing a large chunk. To accept the large\n",
      "chunk and silence this warning, set the option\n",
      "    >>> with dask.config.set(**{'array.slicing.split_large_chunks': False}):\n",
      "    ...     array[indexer]\n",
      "\n",
      "To avoid creating the large chunks, set the option\n",
      "    >>> with dask.config.set(**{'array.slicing.split_large_chunks': True}):\n",
      "    ...     array[indexer]\n",
      "  return self.array[key]\n"
     ]
    },
    {
     "name": "stdout",
     "output_type": "stream",
     "text": [
      "Loading data\n"
     ]
    }
   ],
   "source": [
    "val_args = args\n",
    "val_args['maxs'] = ds_train.maxs\n",
    "val_args['mins'] = ds_train.mins\n",
    "val_args['split'] = 'valid'\n",
    "\n",
    "ds_valid = TiggeMRMSDataset(**val_args)"
   ]
  },
  {
   "cell_type": "code",
   "execution_count": 7,
   "id": "85a53d77",
   "metadata": {},
   "outputs": [],
   "source": [
    "pickle.dump(ds_valid, open(data_dir + f\"saved_datasets/validdataset_{dataset_name}.pkl\", \"wb\"))\n",
    "pickle.dump(val_args, open(data_dir + f\"saved_datasets/validdataset_{dataset_name}_args.pkl\", \"wb\"))"
   ]
  },
  {
   "cell_type": "code",
   "execution_count": 8,
   "id": "49cfa4d8",
   "metadata": {},
   "outputs": [
    {
     "name": "stderr",
     "output_type": "stream",
     "text": [
      "/opt/conda/envs/ilan/lib/python3.9/site-packages/xarray/core/indexing.py:1379: PerformanceWarning: Slicing is producing a large chunk. To accept the large\n",
      "chunk and silence this warning, set the option\n",
      "    >>> with dask.config.set(**{'array.slicing.split_large_chunks': False}):\n",
      "    ...     array[indexer]\n",
      "\n",
      "To avoid creating the large chunks, set the option\n",
      "    >>> with dask.config.set(**{'array.slicing.split_large_chunks': True}):\n",
      "    ...     array[indexer]\n",
      "  return self.array[key]\n",
      "/opt/conda/envs/ilan/lib/python3.9/site-packages/xarray/core/indexing.py:1379: PerformanceWarning: Slicing is producing a large chunk. To accept the large\n",
      "chunk and silence this warning, set the option\n",
      "    >>> with dask.config.set(**{'array.slicing.split_large_chunks': False}):\n",
      "    ...     array[indexer]\n",
      "\n",
      "To avoid creating the large chunks, set the option\n",
      "    >>> with dask.config.set(**{'array.slicing.split_large_chunks': True}):\n",
      "    ...     array[indexer]\n",
      "  return self.array[key]\n"
     ]
    },
    {
     "name": "stdout",
     "output_type": "stream",
     "text": [
      "Loading data\n"
     ]
    }
   ],
   "source": [
    "test_args = args\n",
    "test_args['maxs'] = ds_train.maxs\n",
    "test_args['mins'] = ds_train.mins\n",
    "test_args.pop('val_days')\n",
    "test_args.pop('split')\n",
    "test_args['first_days'] = 5\n",
    "test_args['data_period'] = ('2020-01', '2020-12')\n",
    "test_dataset_name = dataset_name + f\"_first_days_{test_args['first_days']}\"\n",
    "\n",
    "ds_test = TiggeMRMSDataset(**test_args)"
   ]
  },
  {
   "cell_type": "code",
   "execution_count": 9,
   "id": "ffbe2593",
   "metadata": {},
   "outputs": [],
   "source": [
    "pickle.dump(ds_test, open(data_dir + f\"saved_datasets/testdataset_{test_dataset_name}.pkl\", \"wb\"))\n",
    "pickle.dump(test_args, open(data_dir + f\"saved_datasets/testdataset_{test_dataset_name}_args.pkl\", \"wb\"))"
   ]
  },
  {
   "cell_type": "code",
   "execution_count": null,
   "id": "4c76c7d3",
   "metadata": {},
   "outputs": [],
   "source": []
  },
  {
   "cell_type": "markdown",
   "id": "e412fed2",
   "metadata": {},
   "source": [
    "# Broad field of vision"
   ]
  },
  {
   "cell_type": "code",
   "execution_count": 18,
   "id": "1dcd4ab4",
   "metadata": {},
   "outputs": [],
   "source": [
    "DATADRIVE = '/datadrive_ssd/'"
   ]
  },
  {
   "cell_type": "code",
   "execution_count": 19,
   "id": "246dfe16",
   "metadata": {},
   "outputs": [],
   "source": [
    "ds_train = TiggeMRMSDataset(\n",
    "    tigge_dir=f'{DATADRIVE}/tigge/32km/',\n",
    "    tigge_vars=['total_precipitation'],\n",
    "    mrms_dir=f'{DATADRIVE}/mrms/4km/RadarOnly_QPE_06H/',\n",
    "    rq_fn=f'{DATADRIVE}/mrms/4km/RadarQuality.nc',\n",
    "#     const_fn='/datadrive/tigge/32km/constants.nc',\n",
    "#     const_vars=['orog', 'lsm'],\n",
    "    data_period=('2018-01', '2019-12'),\n",
    "    val_days=5,\n",
    "    split='train',\n",
    "    pure_sr_ratio=None, \n",
    "    tp_log=0.01, \n",
    "    pad_tigge=24\n",
    ")"
   ]
  },
  {
   "cell_type": "code",
   "execution_count": 20,
   "id": "cbeac44f",
   "metadata": {},
   "outputs": [
    {
     "name": "stderr",
     "output_type": "stream",
     "text": [
      "/anaconda/envs/ilan/lib/python3.9/site-packages/xarray/core/indexing.py:1379: PerformanceWarning: Slicing is producing a large chunk. To accept the large\n",
      "chunk and silence this warning, set the option\n",
      "    >>> with dask.config.set(**{'array.slicing.split_large_chunks': False}):\n",
      "    ...     array[indexer]\n",
      "\n",
      "To avoid creating the large chunks, set the option\n",
      "    >>> with dask.config.set(**{'array.slicing.split_large_chunks': True}):\n",
      "    ...     array[indexer]\n",
      "  return self.array[key]\n"
     ]
    },
    {
     "name": "stdout",
     "output_type": "stream",
     "text": [
      "Loading data\n"
     ]
    }
   ],
   "source": [
    "ds_valid = TiggeMRMSDataset(\n",
    "    tigge_dir=f'{DATADRIVE}/tigge/32km/',\n",
    "    tigge_vars=['total_precipitation'],\n",
    "    mrms_dir=f'{DATADRIVE}/mrms/4km/RadarOnly_QPE_06H/',\n",
    "    rq_fn=f'{DATADRIVE}/mrms/4km/RadarQuality.nc',\n",
    "#     const_fn='/datadrive/tigge/32km/constants.nc',\n",
    "#     const_vars=['orog', 'lsm'],\n",
    "    data_period=('2018-01', '2019-12'),\n",
    "    val_days=5,\n",
    "    split='valid',\n",
    "    mins=ds_train.mins,\n",
    "    maxs=ds_train.maxs,\n",
    "    pure_sr_ratio=None,\n",
    "    tp_log= 0.01,\n",
    "    pad_tigge=24\n",
    ")"
   ]
  },
  {
   "cell_type": "code",
   "execution_count": 21,
   "id": "446966bf",
   "metadata": {},
   "outputs": [
    {
     "data": {
      "text/plain": [
       "<matplotlib.patches.Rectangle at 0x7f0f7753d6a0>"
      ]
     },
     "execution_count": 6,
     "metadata": {},
     "output_type": "execute_result"
    },
    {
     "data": {
      "image/png": "[encoded data removed]",
      "text/plain": [
       "<Figure size 432x288 with 1 Axes>"
      ]
     },
     "metadata": {
      "needs_background": "light"
     },
     "output_type": "display_data"
    }
   ],
   "source": [
    "import matplotlib.pyplot as plt\n",
    "import matplotlib.patches as patches\n",
    "\n",
    "\n",
    "fig, ax = plt.subplots()\n",
    "ax.imshow(ds_train[3][0][0])\n",
    "rect = patches.Rectangle((24, 24), 16, 16, linewidth=1, edgecolor='r', facecolor='none')\n",
    "ax.add_patch(rect)"
   ]
  },
  {
   "cell_type": "code",
   "execution_count": 7,
   "id": "3fb9e6a7",
   "metadata": {},
   "outputs": [],
   "source": [
    "sampler_train = torch.utils.data.WeightedRandomSampler(ds_train.compute_weights(), len(ds_train))\n",
    "sampler_valid = torch.utils.data.WeightedRandomSampler(ds_valid.compute_weights(), len(ds_valid))"
   ]
  },
  {
   "cell_type": "code",
   "execution_count": null,
   "id": "0509727b",
   "metadata": {},
   "outputs": [],
   "source": []
  },
  {
   "cell_type": "code",
   "execution_count": 24,
   "id": "0ec3b0cd",
   "metadata": {},
   "outputs": [],
   "source": [
    "dl_train = torch.utils.data.DataLoader(ds_train, batch_size=16, sampler=sampler_train, num_workers=6)\n",
    "dl_valid = torch.utils.data.DataLoader(ds_valid, batch_size=16, sampler=sampler_valid, num_workers=6)"
   ]
  },
  {
   "cell_type": "code",
   "execution_count": 25,
   "id": "5ed9735a",
   "metadata": {},
   "outputs": [
    {
     "data": {
      "text/plain": [
       "(16674, 1043)"
      ]
     },
     "execution_count": 9,
     "metadata": {},
     "output_type": "execute_result"
    }
   ],
   "source": [
    "len(ds_train), len(dl_train)"
   ]
  },
  {
   "cell_type": "code",
   "execution_count": 26,
   "id": "711df025",
   "metadata": {},
   "outputs": [],
   "source": [
    "pickle.dump(dl_train, open(DATADRIVE+\"saved_datasets/trainloader_single_forecast_only_log_trans_full_padded_24.pkl\", \"wb\"))\n",
    "pickle.dump(dl_valid, open(DATADRIVE+\"saved_datasets/validloader_single_forecast_only_log_trans_full_padded_24.pkl\", \"wb\"))\n",
    "pickle.dump(ds_train, open(DATADRIVE+\"saved_datasets/traindataset_single_forecast_only_log_trans_full_padded_24.pkl\", \"wb\"))\n",
    "pickle.dump(ds_valid, open(DATADRIVE+\"saved_datasets/validdataset_single_forecast_only_log_trans_full_padded_24.pkl\", \"wb\"))"
   ]
  },
  {
   "cell_type": "code",
   "execution_count": null,
   "id": "7cfe2264",
   "metadata": {},
   "outputs": [],
   "source": []
  },
  {
   "cell_type": "markdown",
   "id": "fd81205c",
   "metadata": {},
   "source": [
    "## Test"
   ]
  },
  {
   "cell_type": "code",
   "execution_count": 5,
   "id": "a88f207a",
   "metadata": {},
   "outputs": [],
   "source": [
    "# ds_train = pickle.load(open(\"/home/jupyter/data/saved_datasets/traindataset_ensemble_forecast_x10_random_log_trans_full.pkl\", \"rb\"))"
   ]
  },
  {
   "cell_type": "code",
   "execution_count": 6,
   "id": "022696c2",
   "metadata": {},
   "outputs": [
    {
     "name": "stderr",
     "output_type": "stream",
     "text": [
      "/opt/conda/envs/ilan/lib/python3.9/site-packages/xarray/core/indexing.py:1379: PerformanceWarning: Slicing is producing a large chunk. To accept the large\n",
      "chunk and silence this warning, set the option\n",
      "    >>> with dask.config.set(**{'array.slicing.split_large_chunks': False}):\n",
      "    ...     array[indexer]\n",
      "\n",
      "To avoid creating the large chunks, set the option\n",
      "    >>> with dask.config.set(**{'array.slicing.split_large_chunks': True}):\n",
      "    ...     array[indexer]\n",
      "  return self.array[key]\n"
     ]
    },
    {
     "name": "stdout",
     "output_type": "stream",
     "text": [
      "Loading data\n"
     ]
    }
   ],
   "source": [
    "# ds_test = TiggeMRMSDataset(\n",
    "#     tigge_dir=f'/home/jupyter/data/tigge/32km/',\n",
    "#     tigge_vars=['total_precipitation_ens10'],\n",
    "#     mrms_dir=f'/home/jupyter/data/mrms/4km/RadarOnly_QPE_06H/',\n",
    "#     rq_fn=f'/home/jupyter/data/mrms/4km/RadarQuality.nc',\n",
    "# #     const_fn='/home/jupyter/data/tigge/32km/constants.nc',\n",
    "# #     const_vars=['orog', 'lsm'],\n",
    "#     data_period=('2020-01', '2020-12'),\n",
    "#     mins=ds_train.mins,\n",
    "#     maxs=ds_train.maxs,\n",
    "#     first_days=5,\n",
    "#     pure_sr_ratio=None, \n",
    "#     tp_log=0.01, \n",
    "#     pad_tigge=0, \n",
    "#     ensemble_mode='random'\n",
    "# )"
   ]
  },
  {
   "cell_type": "code",
   "execution_count": 7,
   "id": "7bdf5cff",
   "metadata": {},
   "outputs": [],
   "source": [
    "# pickle.dump(ds_test, open(\"/home/jupyter/data/saved_datasets/testdataset_single_forecast_only_log_trans_full_padded_24.pkl\", \"wb\"))\n",
    "# pickle.dump(ds_test, open(\"/home/jupyter/data/saved_datasets/testdataset_ensemble_forecast_x10_log_trans_sample.pkl\", \"wb\"))\n",
    "# pickle.dump(ds_test, open(\"/home/jupyter/data/saved_datasets/testdataset_single_forecast_only_log_trans_sample.pkl\", \"wb\"))\n",
    "pickle.dump(ds_test, open(\"/home/jupyter/data/saved_datasets/testdataset_ensemble_forecast_x10_random_log_trans_sample.pkl\", \"wb\"))"
   ]
  },
  {
   "cell_type": "code",
   "execution_count": null,
   "id": "5c2af35d",
   "metadata": {},
   "outputs": [],
   "source": []
  },
  {
   "cell_type": "code",
   "execution_count": null,
   "id": "0720046e",
   "metadata": {},
   "outputs": [],
   "source": []
  },
  {
   "cell_type": "code",
   "execution_count": null,
   "id": "da3989a4",
   "metadata": {},
   "outputs": [],
   "source": []
  },
  {
   "cell_type": "code",
   "execution_count": null,
   "id": "b346788f",
   "metadata": {},
   "outputs": [],
   "source": []
  },
  {
   "cell_type": "code",
   "execution_count": null,
   "id": "9b8d394f",
   "metadata": {},
   "outputs": [],
   "source": []
  },
  {
   "cell_type": "code",
   "execution_count": null,
   "id": "c6e6f97e",
   "metadata": {},
   "outputs": [],
   "source": []
  },
  {
   "cell_type": "code",
   "execution_count": 17,
   "id": "b64f4eb7",
   "metadata": {},
   "outputs": [
    {
     "data": {
      "text/plain": [
       "torch.Size([1, 256, 1, 1])"
      ]
     },
     "execution_count": 17,
     "metadata": {},
     "output_type": "execute_result"
    }
   ],
   "source": [
    "a = torch.from_numpy(np.random.normal(size=(1,256,1,1)))\n",
    "a.shape"
   ]
  },
  {
   "cell_type": "code",
   "execution_count": 19,
   "id": "ea30aed2",
   "metadata": {},
   "outputs": [],
   "source": [
    "b= torch.from_numpy(np.random.normal(size=(1,256,1,1)))"
   ]
  },
  {
   "cell_type": "code",
   "execution_count": null,
   "id": "0897cd29",
   "metadata": {},
   "outputs": [],
   "source": []
  },
  {
   "cell_type": "code",
   "execution_count": null,
   "id": "c0332af8",
   "metadata": {},
   "outputs": [],
   "source": []
  },
  {
   "cell_type": "code",
   "execution_count": 14,
   "id": "3359d345",
   "metadata": {},
   "outputs": [],
   "source": [
    "# ds_test = pickle.load(open(\"/home/jupyter/data/saved_datasets/testdataset_single_forecast_only_log_trans_sample.pkl\", \"rb\"))\n",
    "ds_test = pickle.load(open(\"/home/jupyter/data/saved_datasets/traindataset_single_forecast_tp_extra_vars_TCW-T-CAPE-CIN_log_trans.pkl\", \"rb\"))"
   ]
  },
  {
   "cell_type": "code",
   "execution_count": 15,
   "id": "bab42b95",
   "metadata": {},
   "outputs": [
    {
     "data": {
      "text/plain": [
       "-1596"
      ]
     },
     "execution_count": 15,
     "metadata": {},
     "output_type": "execute_result"
    }
   ],
   "source": [
    "# len(ds_test) - 669*64"
   ]
  },
  {
   "cell_type": "code",
   "execution_count": 6,
   "id": "3db80fb9",
   "metadata": {},
   "outputs": [
    {
     "data": {
      "text/plain": [
       "30.9375"
      ]
     },
     "execution_count": 6,
     "metadata": {},
     "output_type": "execute_result"
    }
   ],
   "source": [
    "3960/128"
   ]
  },
  {
   "cell_type": "code",
   "execution_count": 5,
   "id": "1cc9edf4",
   "metadata": {},
   "outputs": [],
   "source": [
    "ds = pickle.load(open(\"/home/jupyter/data/saved_datasets/traindataset_single_forecast_orog_lsm_log_trans_full.pkl\",\"rb\"))"
   ]
  },
  {
   "cell_type": "code",
   "execution_count": 6,
   "id": "5ab11d5e",
   "metadata": {},
   "outputs": [
    {
     "data": {
      "text/plain": [
       "(3, 16, 16)"
      ]
     },
     "execution_count": 6,
     "metadata": {},
     "output_type": "execute_result"
    }
   ],
   "source": []
  },
  {
   "cell_type": "code",
   "execution_count": null,
   "id": "1c32b785",
   "metadata": {},
   "outputs": [],
   "source": []
  }
 ],
 "metadata": {
  "environment": {
   "name": "tf2-gpu.2-3.m74",
   "type": "gcloud",
   "uri": "gcr.io/deeplearning-platform-release/tf2-gpu.2-3:m74"
  },
  "kernelspec": {
   "display_name": "Python [conda env:ilan]",
   "language": "python",
   "name": "conda-env-ilan-py"
  },
  "language_info": {
   "codemirror_mode": {
    "name": "ipython",
    "version": 3
   },
   "file_extension": ".py",
   "mimetype": "text/x-python",
   "name": "python",
   "nbconvert_exporter": "python",
   "pygments_lexer": "ipython3",
   "version": "3.9.5"
  }
 },
 "nbformat": 4,
 "nbformat_minor": 5
}
